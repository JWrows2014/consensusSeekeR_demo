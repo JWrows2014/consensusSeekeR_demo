{
  "nbformat": 4,
  "nbformat_minor": 0,
  "metadata": {
    "colab": {
      "name": "introduction_to_jupyter_2021129_draft.ipynb",
      "provenance": [],
      "collapsed_sections": [],
      "authorship_tag": "ABX9TyOfFe7vwny5nVOXnfzx6bBk",
      "include_colab_link": true
    },
    "kernelspec": {
      "name": "python3",
      "display_name": "Python 3"
    },
    "language_info": {
      "name": "python"
    }
  },
  "cells": [
    {
      "cell_type": "markdown",
      "metadata": {
        "id": "view-in-github",
        "colab_type": "text"
      },
      "source": [
        "<a href=\"https://colab.research.google.com/github/JWrows2014/consensusSeekeR_demo/blob/main/introduction_to_jupyter_2021129_draft.ipynb\" target=\"_parent\"><img src=\"https://colab.research.google.com/assets/colab-badge.svg\" alt=\"Open In Colab\"/></a>"
      ]
    },
    {
      "cell_type": "code",
      "metadata": {
        "colab": {
          "base_uri": "https://localhost:8080/"
        },
        "id": "4CTYNG4UzuZy",
        "outputId": "56e81ac6-d832-4138-c5b4-82f4738364f1"
      },
      "source": [
        "from google.colab import drive \n",
        "drive.mount('/content/drive')"
      ],
      "execution_count": 1,
      "outputs": [
        {
          "output_type": "stream",
          "name": "stdout",
          "text": [
            "Mounted at /content/drive\n"
          ]
        }
      ]
    },
    {
      "cell_type": "code",
      "metadata": {
        "colab": {
          "base_uri": "https://localhost:8080/"
        },
        "id": "WrlSf1lV1c7L",
        "outputId": "0882ebf8-83cd-47cd-843c-0679e4ed494d"
      },
      "source": [
        "%cd /content/drive/My\\ Drive/introduction_to_jupyter_notebook_2021129\n",
        "%ls -al\n",
        "!pwd"
      ],
      "execution_count": 22,
      "outputs": [
        {
          "output_type": "stream",
          "name": "stdout",
          "text": [
            "/content/drive/My Drive/introduction_to_jupyter_notebook_2021129\n",
            "total 280\n",
            "-rw------- 1 root root 282393 Nov 26 15:30 mission_to_jupyter_2021129_image1.png\n",
            "-rw------- 1 root root    151 Nov 26 14:34 mouse_weight_1.gsheet\n",
            "-rw------- 1 root root    151 Nov 26 14:34 mouse_weight_2.gsheet\n",
            "-rw------- 1 root root    151 Nov 26 14:34 sample_data_1.gsheet\n",
            "-rw------- 1 root root    151 Nov 26 14:34 sample_data_2.gdoc\n",
            "-rw------- 1 root root    151 Nov 26 14:35 sample_data_3.gsheet\n",
            "-rw------- 1 root root    151 Nov 26 14:34 time_series_covid19_confirmed_maryland_1_sort1.gsheet\n",
            "-rw------- 1 root root    151 Nov 26 14:34 time_series_covid19_confirmed_maryland_percent_total.gsheet\n",
            "-rw------- 1 root root    151 Nov 26 14:34 time_series_covid19_confirmed_us.gsheet\n",
            "/content/drive/My Drive/introduction_to_jupyter_notebook_2021129\n"
          ]
        }
      ]
    },
    {
      "cell_type": "code",
      "metadata": {
        "colab": {
          "base_uri": "https://localhost:8080/",
          "height": 35
        },
        "id": "LjxOboIi40ag",
        "outputId": "73d02ad4-6231-4a7f-9afe-f6c83ab8a735"
      },
      "source": [
        "import os\n",
        "os.chdir('/content/drive/My Drive/introduction_to_jupyter_notebook_2021129')\n",
        "os.getcwd()"
      ],
      "execution_count": 21,
      "outputs": [
        {
          "output_type": "execute_result",
          "data": {
            "application/vnd.google.colaboratory.intrinsic+json": {
              "type": "string"
            },
            "text/plain": [
              "'/content/drive/My Drive/introduction_to_jupyter_notebook_2021129'"
            ]
          },
          "metadata": {},
          "execution_count": 21
        }
      ]
    },
    {
      "cell_type": "markdown",
      "metadata": {
        "id": "kblpn9Pr0PTe"
      },
      "source": [
        "Jupyter Notebook is a great tool used for documentation of data analyses. This will facilitate sharing with other researchers and importantly, ensure that analysis done on data is reproducible.\n",
        "\n",
        "Among the languages support by Jupyter Notebook are Python and R, which is popular in bioinformatics and in general, data science.\n",
        "\n",
        "<img src=\"https://drive.google.com/uc?export=view&id=1hIduU2v_abcEpDU3gu-zsCMExUsIaya0\" />\n",
        "\n",
        "[](https://drive.google.com/uc?export=view&id=1hIduU2v_abcEpDU3gu-zsCMExUsIaya0)\n",
        "\n",
        "\n",
        "\n"
      ]
    }
  ]
}