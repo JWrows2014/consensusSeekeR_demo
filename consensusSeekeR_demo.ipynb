{
 "cells": [
  {
   "cell_type": "markdown",
   "id": "express-talent",
   "metadata": {},
   "source": [
    "This script demos the calling of consensus ChIP seq peaks obtained from mouse chondrocyte tissue using consensusSeekeR\n",
    "(https://www.bioconductor.org/packages/release/bioc/html/consensusSeekeR.html)"
   ]
  },
  {
   "cell_type": "code",
   "execution_count": 1,
   "id": "prerequisite-final",
   "metadata": {},
   "outputs": [
    {
     "name": "stderr",
     "output_type": "stream",
     "text": [
      "Loading required package: stats4\n",
      "\n",
      "Loading required package: BiocGenerics\n",
      "\n",
      "Loading required package: parallel\n",
      "\n",
      "\n",
      "Attaching package: 'BiocGenerics'\n",
      "\n",
      "\n",
      "The following objects are masked from 'package:parallel':\n",
      "\n",
      "    clusterApply, clusterApplyLB, clusterCall, clusterEvalQ,\n",
      "    clusterExport, clusterMap, parApply, parCapply, parLapply,\n",
      "    parLapplyLB, parRapply, parSapply, parSapplyLB\n",
      "\n",
      "\n",
      "The following objects are masked from 'package:stats':\n",
      "\n",
      "    IQR, mad, sd, var, xtabs\n",
      "\n",
      "\n",
      "The following objects are masked from 'package:base':\n",
      "\n",
      "    anyDuplicated, append, as.data.frame, basename, cbind, colnames,\n",
      "    dirname, do.call, duplicated, eval, evalq, Filter, Find, get, grep,\n",
      "    grepl, intersect, is.unsorted, lapply, Map, mapply, match, mget,\n",
      "    order, paste, pmax, pmax.int, pmin, pmin.int, Position, rank,\n",
      "    rbind, Reduce, rownames, sapply, setdiff, sort, table, tapply,\n",
      "    union, unique, unsplit, which.max, which.min\n",
      "\n",
      "\n",
      "Loading required package: S4Vectors\n",
      "\n",
      "\n",
      "Attaching package: 'S4Vectors'\n",
      "\n",
      "\n",
      "The following object is masked from 'package:base':\n",
      "\n",
      "    expand.grid\n",
      "\n",
      "\n",
      "Loading required package: IRanges\n",
      "\n",
      "\n",
      "Attaching package: 'IRanges'\n",
      "\n",
      "\n",
      "The following object is masked from 'package:grDevices':\n",
      "\n",
      "    windows\n",
      "\n",
      "\n",
      "Loading required package: GenomeInfoDb\n",
      "\n",
      "Warning message:\n",
      "\"package 'dplyr' was built under R version 4.0.4\"\n",
      "\n",
      "Attaching package: 'dplyr'\n",
      "\n",
      "\n",
      "The following objects are masked from 'package:GenomicRanges':\n",
      "\n",
      "    intersect, setdiff, union\n",
      "\n",
      "\n",
      "The following object is masked from 'package:GenomeInfoDb':\n",
      "\n",
      "    intersect\n",
      "\n",
      "\n",
      "The following objects are masked from 'package:IRanges':\n",
      "\n",
      "    collapse, desc, intersect, setdiff, slice, union\n",
      "\n",
      "\n",
      "The following objects are masked from 'package:S4Vectors':\n",
      "\n",
      "    first, intersect, rename, setdiff, setequal, union\n",
      "\n",
      "\n",
      "The following objects are masked from 'package:BiocGenerics':\n",
      "\n",
      "    combine, intersect, setdiff, union\n",
      "\n",
      "\n",
      "The following objects are masked from 'package:stats':\n",
      "\n",
      "    filter, lag\n",
      "\n",
      "\n",
      "The following objects are masked from 'package:base':\n",
      "\n",
      "    intersect, setdiff, setequal, union\n",
      "\n",
      "\n",
      "Loading required package: BiocParallel\n",
      "\n"
     ]
    }
   ],
   "source": [
    "##loading required packages\n",
    "library(readr)\n",
    "library(GenomicRanges)\n",
    "library(rtracklayer)\n",
    "library(dplyr)\n",
    "library(consensusSeekeR)"
   ]
  },
  {
   "cell_type": "code",
   "execution_count": 2,
   "id": "otherwise-filing",
   "metadata": {},
   "outputs": [],
   "source": [
    "##setting working directory\n",
    "setwd('D:/mouse_chondrocyte_chip_seq_macs2')"
   ]
  },
  {
   "cell_type": "code",
   "execution_count": 3,
   "id": "numerical-mount",
   "metadata": {},
   "outputs": [],
   "source": [
    "dir <- file.path(\"D:\", \"mouse_chondrocyte_chip_seq_macs2\")"
   ]
  },
  {
   "cell_type": "code",
   "execution_count": 4,
   "id": "focused-asthma",
   "metadata": {},
   "outputs": [],
   "source": [
    "##importing a list csv file containing a list of narrowPeak files generated \n",
    "####from ChIP seq peak calling with MACS2\n",
    "chondrocyte_narrowPeak_files <- read.csv(\"chondrocyte_narrowPeak_files.csv\", header = FALSE)\n",
    "##assign column name(s) to chondrocyte_narrowPeak_files\n",
    "colnames(chondrocyte_narrowPeak_files) <- \"chondrocyte_narrowPeak_filenames\""
   ]
  },
  {
   "cell_type": "code",
   "execution_count": 5,
   "id": "structured-grass",
   "metadata": {},
   "outputs": [
    {
     "data": {
      "text/html": [
       "<table class=\"dataframe\">\n",
       "<caption>A data.frame: 4 × 1</caption>\n",
       "<thead>\n",
       "\t<tr><th scope=col>chondrocyte_narrowPeak_filenames</th></tr>\n",
       "\t<tr><th scope=col>&lt;chr&gt;</th></tr>\n",
       "</thead>\n",
       "<tbody>\n",
       "\t<tr><td>chondrocyte1_l001_peaks.narrowPeak</td></tr>\n",
       "\t<tr><td>chondrocyte1_l002_peaks.narrowPeak</td></tr>\n",
       "\t<tr><td>chondrocyte2_l001_peaks.narrowPeak</td></tr>\n",
       "\t<tr><td>chondrocyte2_l002_peaks.narrowPeak</td></tr>\n",
       "</tbody>\n",
       "</table>\n"
      ],
      "text/latex": [
       "A data.frame: 4 × 1\n",
       "\\begin{tabular}{l}\n",
       " chondrocyte\\_narrowPeak\\_filenames\\\\\n",
       " <chr>\\\\\n",
       "\\hline\n",
       "\t chondrocyte1\\_l001\\_peaks.narrowPeak\\\\\n",
       "\t chondrocyte1\\_l002\\_peaks.narrowPeak\\\\\n",
       "\t chondrocyte2\\_l001\\_peaks.narrowPeak\\\\\n",
       "\t chondrocyte2\\_l002\\_peaks.narrowPeak\\\\\n",
       "\\end{tabular}\n"
      ],
      "text/markdown": [
       "\n",
       "A data.frame: 4 × 1\n",
       "\n",
       "| chondrocyte_narrowPeak_filenames &lt;chr&gt; |\n",
       "|---|\n",
       "| chondrocyte1_l001_peaks.narrowPeak |\n",
       "| chondrocyte1_l002_peaks.narrowPeak |\n",
       "| chondrocyte2_l001_peaks.narrowPeak |\n",
       "| chondrocyte2_l002_peaks.narrowPeak |\n",
       "\n"
      ],
      "text/plain": [
       "  chondrocyte_narrowPeak_filenames  \n",
       "1 chondrocyte1_l001_peaks.narrowPeak\n",
       "2 chondrocyte1_l002_peaks.narrowPeak\n",
       "3 chondrocyte2_l001_peaks.narrowPeak\n",
       "4 chondrocyte2_l002_peaks.narrowPeak"
      ]
     },
     "metadata": {},
     "output_type": "display_data"
    }
   ],
   "source": [
    "chondrocyte_narrowPeak_files"
   ]
  },
  {
   "cell_type": "code",
   "execution_count": 6,
   "id": "numeric-century",
   "metadata": {},
   "outputs": [],
   "source": [
    "##importing the narrowPeak files obtained from peak calling with MACS2\n",
    "chondrocyte1_L001_narrowPeak <- readNarrowPeakFile(paste0(dir, \"/\", chondrocyte_narrowPeak_files[1,1]), extractRegions = TRUE, extractPeaks = TRUE)\n",
    "chondrocyte1_L002_narrowPeak <- readNarrowPeakFile(paste0(dir, \"/\", chondrocyte_narrowPeak_files[2,1]), extractRegions = TRUE, extractPeaks = TRUE)\n",
    "chondrocyte2_L001_narrowPeak <- readNarrowPeakFile(paste0(dir, \"/\", chondrocyte_narrowPeak_files[3,1]), extractRegions = TRUE, extractPeaks = TRUE)\n",
    "chondrocyte2_L002_narrowPeak <- readNarrowPeakFile(paste0(dir, \"/\", chondrocyte_narrowPeak_files[4,1]), extractRegions = TRUE, extractPeaks = TRUE)"
   ]
  },
  {
   "cell_type": "code",
   "execution_count": 7,
   "id": "particular-pressing",
   "metadata": {},
   "outputs": [
    {
     "data": {
      "text/plain": [
       "$narrowPeak\n",
       "GRanges object with 8557 ranges and 6 metadata columns:\n",
       "         seqnames              ranges strand |                   name     score\n",
       "            <Rle>           <IRanges>  <Rle> |            <character> <numeric>\n",
       "     [1]     chr1     4785390-4785626      * | chondrocyte1_l001_pe..        59\n",
       "     [2]     chr1     4857778-4858295      * | chondrocyte1_l001_pe..        39\n",
       "     [3]     chr1     4858686-4859084      * | chondrocyte1_l001_pe..        71\n",
       "     [4]     chr1     5082633-5082857      * | chondrocyte1_l001_pe..        31\n",
       "     [5]     chr1     5083174-5083522      * | chondrocyte1_l001_pe..        54\n",
       "     ...      ...                 ...    ... .                    ...       ...\n",
       "  [8553]     chrX 157334998-157335222      * | chondrocyte1_l001_pe..        31\n",
       "  [8554]     chrX 162888059-162888324      * | chondrocyte1_l001_pe..        41\n",
       "  [8555]     chrX 166440186-166440618      * | chondrocyte1_l001_pe..        82\n",
       "  [8556]     chrX 166440733-166441075      * | chondrocyte1_l001_pe..        32\n",
       "  [8557]     chrX 169319867-169320339      * | chondrocyte1_l001_pe..        41\n",
       "         signalValue    pValue    qValue      peak\n",
       "           <numeric> <numeric> <numeric> <integer>\n",
       "     [1]     6.40382   9.73237   5.93972       147\n",
       "     [2]     4.73112   7.34371   3.95221       116\n",
       "     [3]     7.09338  11.16308   7.12892       179\n",
       "     [4]     4.80287   6.42685   3.17928       186\n",
       "     [5]     5.45899   9.18844   5.45396       168\n",
       "     ...         ...       ...       ...       ...\n",
       "  [8553]     4.80287   6.42685   3.17928       157\n",
       "  [8554]     5.45645   7.68259   4.14504       139\n",
       "  [8555]     7.63903  12.39053   8.21058       130\n",
       "  [8556]     4.91080   6.59958   3.24449       138\n",
       "  [8557]     5.45645   7.68259   4.14504       299\n",
       "  -------\n",
       "  seqinfo: 21 sequences from an unspecified genome; no seqlengths\n",
       "\n",
       "$peak\n",
       "GRanges object with 8557 ranges and 6 metadata columns:\n",
       "         seqnames    ranges strand |                   name     score\n",
       "            <Rle> <IRanges>  <Rle> |            <character> <numeric>\n",
       "     [1]     chr1   4785537      * | chondrocyte1_l001_pe..        59\n",
       "     [2]     chr1   4857894      * | chondrocyte1_l001_pe..        39\n",
       "     [3]     chr1   4858865      * | chondrocyte1_l001_pe..        71\n",
       "     [4]     chr1   5082819      * | chondrocyte1_l001_pe..        31\n",
       "     [5]     chr1   5083342      * | chondrocyte1_l001_pe..        54\n",
       "     ...      ...       ...    ... .                    ...       ...\n",
       "  [8553]     chrX 157335155      * | chondrocyte1_l001_pe..        31\n",
       "  [8554]     chrX 162888198      * | chondrocyte1_l001_pe..        41\n",
       "  [8555]     chrX 166440316      * | chondrocyte1_l001_pe..        82\n",
       "  [8556]     chrX 166440871      * | chondrocyte1_l001_pe..        32\n",
       "  [8557]     chrX 169320166      * | chondrocyte1_l001_pe..        41\n",
       "         signalValue    pValue    qValue      peak\n",
       "           <numeric> <numeric> <numeric> <integer>\n",
       "     [1]     6.40382   9.73237   5.93972       147\n",
       "     [2]     4.73112   7.34371   3.95221       116\n",
       "     [3]     7.09338  11.16308   7.12892       179\n",
       "     [4]     4.80287   6.42685   3.17928       186\n",
       "     [5]     5.45899   9.18844   5.45396       168\n",
       "     ...         ...       ...       ...       ...\n",
       "  [8553]     4.80287   6.42685   3.17928       157\n",
       "  [8554]     5.45645   7.68259   4.14504       139\n",
       "  [8555]     7.63903  12.39053   8.21058       130\n",
       "  [8556]     4.91080   6.59958   3.24449       138\n",
       "  [8557]     5.45645   7.68259   4.14504       299\n",
       "  -------\n",
       "  seqinfo: 21 sequences from an unspecified genome; no seqlengths\n"
      ]
     },
     "metadata": {},
     "output_type": "display_data"
    }
   ],
   "source": [
    "##taking a look at what a narrowPeak file looks like\n",
    "##the first 6 columns of a narrowPeak file are essentially BED\n",
    "##the last 4 columns of a narrowPeak file provides signalValue (overall enrichment of a region),\n",
    "####statistical significance of the called peak (p and q values) and\n",
    "####peak (the point source called for a peak)\n",
    "chondrocyte1_L001_narrowPeak"
   ]
  },
  {
   "cell_type": "code",
   "execution_count": 8,
   "id": "promising-franchise",
   "metadata": {},
   "outputs": [],
   "source": [
    "##converting the narrowPeak files into data frames\n",
    "chondrocyte1_L001_narrowPeak_df <- data.frame(chondrocyte1_L001_narrowPeak[[\"narrowPeak\"]])\n",
    "chondrocyte1_L002_narrowPeak_df <- data.frame(chondrocyte1_L002_narrowPeak[[\"narrowPeak\"]])\n",
    "chondrocyte2_L001_narrowPeak_df <- data.frame(chondrocyte2_L001_narrowPeak[[\"narrowPeak\"]])\n",
    "chondrocyte2_L002_narrowPeak_df <- data.frame(chondrocyte2_L002_narrowPeak[[\"narrowPeak\"]])"
   ]
  },
  {
   "cell_type": "code",
   "execution_count": 9,
   "id": "liable-saskatchewan",
   "metadata": {},
   "outputs": [
    {
     "data": {
      "text/html": [
       "<table class=\"dataframe\">\n",
       "<caption>A data.frame: 5 × 11</caption>\n",
       "<thead>\n",
       "\t<tr><th></th><th scope=col>seqnames</th><th scope=col>start</th><th scope=col>end</th><th scope=col>width</th><th scope=col>strand</th><th scope=col>name</th><th scope=col>score</th><th scope=col>signalValue</th><th scope=col>pValue</th><th scope=col>qValue</th><th scope=col>peak</th></tr>\n",
       "\t<tr><th></th><th scope=col>&lt;fct&gt;</th><th scope=col>&lt;int&gt;</th><th scope=col>&lt;int&gt;</th><th scope=col>&lt;int&gt;</th><th scope=col>&lt;fct&gt;</th><th scope=col>&lt;chr&gt;</th><th scope=col>&lt;dbl&gt;</th><th scope=col>&lt;dbl&gt;</th><th scope=col>&lt;dbl&gt;</th><th scope=col>&lt;dbl&gt;</th><th scope=col>&lt;int&gt;</th></tr>\n",
       "</thead>\n",
       "<tbody>\n",
       "\t<tr><th scope=row>1</th><td>chr1</td><td>4785390</td><td>4785626</td><td>237</td><td>*</td><td>chondrocyte1_l001_peak_1</td><td>59</td><td>6.40382</td><td> 9.73237</td><td>5.93972</td><td>147</td></tr>\n",
       "\t<tr><th scope=row>2</th><td>chr1</td><td>4857778</td><td>4858295</td><td>518</td><td>*</td><td>chondrocyte1_l001_peak_2</td><td>39</td><td>4.73112</td><td> 7.34371</td><td>3.95221</td><td>116</td></tr>\n",
       "\t<tr><th scope=row>3</th><td>chr1</td><td>4858686</td><td>4859084</td><td>399</td><td>*</td><td>chondrocyte1_l001_peak_3</td><td>71</td><td>7.09338</td><td>11.16308</td><td>7.12892</td><td>179</td></tr>\n",
       "\t<tr><th scope=row>4</th><td>chr1</td><td>5082633</td><td>5082857</td><td>225</td><td>*</td><td>chondrocyte1_l001_peak_4</td><td>31</td><td>4.80287</td><td> 6.42685</td><td>3.17928</td><td>186</td></tr>\n",
       "\t<tr><th scope=row>5</th><td>chr1</td><td>5083174</td><td>5083522</td><td>349</td><td>*</td><td>chondrocyte1_l001_peak_5</td><td>54</td><td>5.45899</td><td> 9.18844</td><td>5.45396</td><td>168</td></tr>\n",
       "</tbody>\n",
       "</table>\n"
      ],
      "text/latex": [
       "A data.frame: 5 × 11\n",
       "\\begin{tabular}{r|lllllllllll}\n",
       "  & seqnames & start & end & width & strand & name & score & signalValue & pValue & qValue & peak\\\\\n",
       "  & <fct> & <int> & <int> & <int> & <fct> & <chr> & <dbl> & <dbl> & <dbl> & <dbl> & <int>\\\\\n",
       "\\hline\n",
       "\t1 & chr1 & 4785390 & 4785626 & 237 & * & chondrocyte1\\_l001\\_peak\\_1 & 59 & 6.40382 &  9.73237 & 5.93972 & 147\\\\\n",
       "\t2 & chr1 & 4857778 & 4858295 & 518 & * & chondrocyte1\\_l001\\_peak\\_2 & 39 & 4.73112 &  7.34371 & 3.95221 & 116\\\\\n",
       "\t3 & chr1 & 4858686 & 4859084 & 399 & * & chondrocyte1\\_l001\\_peak\\_3 & 71 & 7.09338 & 11.16308 & 7.12892 & 179\\\\\n",
       "\t4 & chr1 & 5082633 & 5082857 & 225 & * & chondrocyte1\\_l001\\_peak\\_4 & 31 & 4.80287 &  6.42685 & 3.17928 & 186\\\\\n",
       "\t5 & chr1 & 5083174 & 5083522 & 349 & * & chondrocyte1\\_l001\\_peak\\_5 & 54 & 5.45899 &  9.18844 & 5.45396 & 168\\\\\n",
       "\\end{tabular}\n"
      ],
      "text/markdown": [
       "\n",
       "A data.frame: 5 × 11\n",
       "\n",
       "| <!--/--> | seqnames &lt;fct&gt; | start &lt;int&gt; | end &lt;int&gt; | width &lt;int&gt; | strand &lt;fct&gt; | name &lt;chr&gt; | score &lt;dbl&gt; | signalValue &lt;dbl&gt; | pValue &lt;dbl&gt; | qValue &lt;dbl&gt; | peak &lt;int&gt; |\n",
       "|---|---|---|---|---|---|---|---|---|---|---|---|\n",
       "| 1 | chr1 | 4785390 | 4785626 | 237 | * | chondrocyte1_l001_peak_1 | 59 | 6.40382 |  9.73237 | 5.93972 | 147 |\n",
       "| 2 | chr1 | 4857778 | 4858295 | 518 | * | chondrocyte1_l001_peak_2 | 39 | 4.73112 |  7.34371 | 3.95221 | 116 |\n",
       "| 3 | chr1 | 4858686 | 4859084 | 399 | * | chondrocyte1_l001_peak_3 | 71 | 7.09338 | 11.16308 | 7.12892 | 179 |\n",
       "| 4 | chr1 | 5082633 | 5082857 | 225 | * | chondrocyte1_l001_peak_4 | 31 | 4.80287 |  6.42685 | 3.17928 | 186 |\n",
       "| 5 | chr1 | 5083174 | 5083522 | 349 | * | chondrocyte1_l001_peak_5 | 54 | 5.45899 |  9.18844 | 5.45396 | 168 |\n",
       "\n"
      ],
      "text/plain": [
       "  seqnames start   end     width strand name                     score\n",
       "1 chr1     4785390 4785626 237   *      chondrocyte1_l001_peak_1 59   \n",
       "2 chr1     4857778 4858295 518   *      chondrocyte1_l001_peak_2 39   \n",
       "3 chr1     4858686 4859084 399   *      chondrocyte1_l001_peak_3 71   \n",
       "4 chr1     5082633 5082857 225   *      chondrocyte1_l001_peak_4 31   \n",
       "5 chr1     5083174 5083522 349   *      chondrocyte1_l001_peak_5 54   \n",
       "  signalValue pValue   qValue  peak\n",
       "1 6.40382      9.73237 5.93972 147 \n",
       "2 4.73112      7.34371 3.95221 116 \n",
       "3 7.09338     11.16308 7.12892 179 \n",
       "4 4.80287      6.42685 3.17928 186 \n",
       "5 5.45899      9.18844 5.45396 168 "
      ]
     },
     "metadata": {},
     "output_type": "display_data"
    }
   ],
   "source": [
    "##it is more easy to see the contents of a narrowPeak file when in data frame format\n",
    "##here we use the head function to view the first 5 rows\n",
    "head(chondrocyte1_L001_narrowPeak_df, n=5)"
   ]
  },
  {
   "cell_type": "code",
   "execution_count": 10,
   "id": "pressing-julian",
   "metadata": {},
   "outputs": [],
   "source": [
    "##extracting peak locations from narrowPeak files and storing into data frames\n",
    "chondrocyte1_L001_peak_df <- data.frame(chondrocyte1_L001_narrowPeak[[\"peak\"]])\n",
    "chondrocyte1_L002_peak_df <- data.frame(chondrocyte1_L002_narrowPeak[[\"peak\"]])\n",
    "chondrocyte2_L001_peak_df <- data.frame(chondrocyte2_L001_narrowPeak[[\"peak\"]])\n",
    "chondrocyte2_L002_peak_df <- data.frame(chondrocyte2_L002_narrowPeak[[\"peak\"]])"
   ]
  },
  {
   "cell_type": "code",
   "execution_count": 11,
   "id": "otherwise-surge",
   "metadata": {},
   "outputs": [
    {
     "data": {
      "text/html": [
       "<table class=\"dataframe\">\n",
       "<caption>A data.frame: 5 × 11</caption>\n",
       "<thead>\n",
       "\t<tr><th></th><th scope=col>seqnames</th><th scope=col>start</th><th scope=col>end</th><th scope=col>width</th><th scope=col>strand</th><th scope=col>name</th><th scope=col>score</th><th scope=col>signalValue</th><th scope=col>pValue</th><th scope=col>qValue</th><th scope=col>peak</th></tr>\n",
       "\t<tr><th></th><th scope=col>&lt;fct&gt;</th><th scope=col>&lt;int&gt;</th><th scope=col>&lt;int&gt;</th><th scope=col>&lt;int&gt;</th><th scope=col>&lt;fct&gt;</th><th scope=col>&lt;chr&gt;</th><th scope=col>&lt;dbl&gt;</th><th scope=col>&lt;dbl&gt;</th><th scope=col>&lt;dbl&gt;</th><th scope=col>&lt;dbl&gt;</th><th scope=col>&lt;int&gt;</th></tr>\n",
       "</thead>\n",
       "<tbody>\n",
       "\t<tr><th scope=row>1</th><td>chr1</td><td>4785537</td><td>4785537</td><td>1</td><td>*</td><td>chondrocyte1_l001_peak_1</td><td>59</td><td>6.40382</td><td> 9.73237</td><td>5.93972</td><td>147</td></tr>\n",
       "\t<tr><th scope=row>2</th><td>chr1</td><td>4857894</td><td>4857894</td><td>1</td><td>*</td><td>chondrocyte1_l001_peak_2</td><td>39</td><td>4.73112</td><td> 7.34371</td><td>3.95221</td><td>116</td></tr>\n",
       "\t<tr><th scope=row>3</th><td>chr1</td><td>4858865</td><td>4858865</td><td>1</td><td>*</td><td>chondrocyte1_l001_peak_3</td><td>71</td><td>7.09338</td><td>11.16308</td><td>7.12892</td><td>179</td></tr>\n",
       "\t<tr><th scope=row>4</th><td>chr1</td><td>5082819</td><td>5082819</td><td>1</td><td>*</td><td>chondrocyte1_l001_peak_4</td><td>31</td><td>4.80287</td><td> 6.42685</td><td>3.17928</td><td>186</td></tr>\n",
       "\t<tr><th scope=row>5</th><td>chr1</td><td>5083342</td><td>5083342</td><td>1</td><td>*</td><td>chondrocyte1_l001_peak_5</td><td>54</td><td>5.45899</td><td> 9.18844</td><td>5.45396</td><td>168</td></tr>\n",
       "</tbody>\n",
       "</table>\n"
      ],
      "text/latex": [
       "A data.frame: 5 × 11\n",
       "\\begin{tabular}{r|lllllllllll}\n",
       "  & seqnames & start & end & width & strand & name & score & signalValue & pValue & qValue & peak\\\\\n",
       "  & <fct> & <int> & <int> & <int> & <fct> & <chr> & <dbl> & <dbl> & <dbl> & <dbl> & <int>\\\\\n",
       "\\hline\n",
       "\t1 & chr1 & 4785537 & 4785537 & 1 & * & chondrocyte1\\_l001\\_peak\\_1 & 59 & 6.40382 &  9.73237 & 5.93972 & 147\\\\\n",
       "\t2 & chr1 & 4857894 & 4857894 & 1 & * & chondrocyte1\\_l001\\_peak\\_2 & 39 & 4.73112 &  7.34371 & 3.95221 & 116\\\\\n",
       "\t3 & chr1 & 4858865 & 4858865 & 1 & * & chondrocyte1\\_l001\\_peak\\_3 & 71 & 7.09338 & 11.16308 & 7.12892 & 179\\\\\n",
       "\t4 & chr1 & 5082819 & 5082819 & 1 & * & chondrocyte1\\_l001\\_peak\\_4 & 31 & 4.80287 &  6.42685 & 3.17928 & 186\\\\\n",
       "\t5 & chr1 & 5083342 & 5083342 & 1 & * & chondrocyte1\\_l001\\_peak\\_5 & 54 & 5.45899 &  9.18844 & 5.45396 & 168\\\\\n",
       "\\end{tabular}\n"
      ],
      "text/markdown": [
       "\n",
       "A data.frame: 5 × 11\n",
       "\n",
       "| <!--/--> | seqnames &lt;fct&gt; | start &lt;int&gt; | end &lt;int&gt; | width &lt;int&gt; | strand &lt;fct&gt; | name &lt;chr&gt; | score &lt;dbl&gt; | signalValue &lt;dbl&gt; | pValue &lt;dbl&gt; | qValue &lt;dbl&gt; | peak &lt;int&gt; |\n",
       "|---|---|---|---|---|---|---|---|---|---|---|---|\n",
       "| 1 | chr1 | 4785537 | 4785537 | 1 | * | chondrocyte1_l001_peak_1 | 59 | 6.40382 |  9.73237 | 5.93972 | 147 |\n",
       "| 2 | chr1 | 4857894 | 4857894 | 1 | * | chondrocyte1_l001_peak_2 | 39 | 4.73112 |  7.34371 | 3.95221 | 116 |\n",
       "| 3 | chr1 | 4858865 | 4858865 | 1 | * | chondrocyte1_l001_peak_3 | 71 | 7.09338 | 11.16308 | 7.12892 | 179 |\n",
       "| 4 | chr1 | 5082819 | 5082819 | 1 | * | chondrocyte1_l001_peak_4 | 31 | 4.80287 |  6.42685 | 3.17928 | 186 |\n",
       "| 5 | chr1 | 5083342 | 5083342 | 1 | * | chondrocyte1_l001_peak_5 | 54 | 5.45899 |  9.18844 | 5.45396 | 168 |\n",
       "\n"
      ],
      "text/plain": [
       "  seqnames start   end     width strand name                     score\n",
       "1 chr1     4785537 4785537 1     *      chondrocyte1_l001_peak_1 59   \n",
       "2 chr1     4857894 4857894 1     *      chondrocyte1_l001_peak_2 39   \n",
       "3 chr1     4858865 4858865 1     *      chondrocyte1_l001_peak_3 71   \n",
       "4 chr1     5082819 5082819 1     *      chondrocyte1_l001_peak_4 31   \n",
       "5 chr1     5083342 5083342 1     *      chondrocyte1_l001_peak_5 54   \n",
       "  signalValue pValue   qValue  peak\n",
       "1 6.40382      9.73237 5.93972 147 \n",
       "2 4.73112      7.34371 3.95221 116 \n",
       "3 7.09338     11.16308 7.12892 179 \n",
       "4 4.80287      6.42685 3.17928 186 \n",
       "5 5.45899      9.18844 5.45396 168 "
      ]
     },
     "metadata": {},
     "output_type": "display_data"
    }
   ],
   "source": [
    "##the difference between chondrocyte1_L001_narrowPeak_df and chondrocyte1_L001_peak_df\n",
    "####is that the peak width in chondrocyte1_L001_peak_df is 1\n",
    "head(chondrocyte1_L001_peak_df, n=5)"
   ]
  },
  {
   "cell_type": "code",
   "execution_count": 12,
   "id": "banned-bracket",
   "metadata": {},
   "outputs": [],
   "source": [
    "names(chondrocyte1_L001_narrowPeak[[\"narrowPeak\"]]) <- rep(\"chondrocyte1_L001\", length(chondrocyte1_L001_narrowPeak[[\"narrowPeak\"]]))\n",
    "names(chondrocyte1_L001_narrowPeak[[\"peak\"]]) <- rep(\"chondrocyte1_L001\", length(chondrocyte1_L001_narrowPeak[[\"peak\"]]))\n",
    "names(chondrocyte1_L002_narrowPeak[[\"narrowPeak\"]]) <- rep(\"chondrocyte1_L002\", length(chondrocyte1_L002_narrowPeak[[\"narrowPeak\"]]))\n",
    "names(chondrocyte1_L002_narrowPeak[[\"peak\"]]) <- rep(\"chondrocyte1_L002\", length(chondrocyte1_L002_narrowPeak[[\"peak\"]]))\n",
    "names(chondrocyte2_L001_narrowPeak[[\"narrowPeak\"]]) <- rep(\"chondrocyte2_L001\", length(chondrocyte2_L001_narrowPeak[[\"narrowPeak\"]]))\n",
    "names(chondrocyte2_L001_narrowPeak[[\"peak\"]]) <- rep(\"chondrocyte2_L001\", length(chondrocyte2_L001_narrowPeak[[\"peak\"]]))\n",
    "names(chondrocyte2_L002_narrowPeak[[\"narrowPeak\"]]) <- rep(\"chondrocyte2_L002\", length(chondrocyte2_L002_narrowPeak[[\"narrowPeak\"]]))\n",
    "names(chondrocyte2_L002_narrowPeak[[\"peak\"]]) <- rep(\"chondrocyte2_L002\", length(chondrocyte2_L002_narrowPeak[[\"peak\"]]))"
   ]
  },
  {
   "cell_type": "code",
   "execution_count": 13,
   "id": "mental-universe",
   "metadata": {},
   "outputs": [
    {
     "data": {
      "text/plain": [
       "GRanges object with 5 ranges and 6 metadata columns:\n",
       "                    seqnames          ranges strand |                   name\n",
       "                       <Rle>       <IRanges>  <Rle> |            <character>\n",
       "  chondrocyte1_L001     chr1 4785390-4785626      * | chondrocyte1_l001_pe..\n",
       "  chondrocyte1_L001     chr1 4857778-4858295      * | chondrocyte1_l001_pe..\n",
       "  chondrocyte1_L001     chr1 4858686-4859084      * | chondrocyte1_l001_pe..\n",
       "  chondrocyte1_L001     chr1 5082633-5082857      * | chondrocyte1_l001_pe..\n",
       "  chondrocyte1_L001     chr1 5083174-5083522      * | chondrocyte1_l001_pe..\n",
       "                        score signalValue    pValue    qValue      peak\n",
       "                    <numeric>   <numeric> <numeric> <numeric> <integer>\n",
       "  chondrocyte1_L001        59     6.40382   9.73237   5.93972       147\n",
       "  chondrocyte1_L001        39     4.73112   7.34371   3.95221       116\n",
       "  chondrocyte1_L001        71     7.09338  11.16308   7.12892       179\n",
       "  chondrocyte1_L001        31     4.80287   6.42685   3.17928       186\n",
       "  chondrocyte1_L001        54     5.45899   9.18844   5.45396       168\n",
       "  -------\n",
       "  seqinfo: 21 sequences from an unspecified genome; no seqlengths"
      ]
     },
     "metadata": {},
     "output_type": "display_data"
    }
   ],
   "source": [
    "##notice that now the sample names have been included\n",
    "head(chondrocyte1_L001_narrowPeak[[\"narrowPeak\"]], n=5)"
   ]
  },
  {
   "cell_type": "code",
   "execution_count": 14,
   "id": "later-paste",
   "metadata": {},
   "outputs": [],
   "source": [
    "##sets reference genome to mm10, which was used for sequence read alignment\n",
    "mm10info <- Seqinfo(genome=\"mm10\")"
   ]
  },
  {
   "cell_type": "code",
   "execution_count": 15,
   "id": "parallel-ottawa",
   "metadata": {},
   "outputs": [],
   "source": [
    "##the lines below will find consensus peaks in the replicates\n",
    "\n",
    "##different values of extendingSize are tested to find the one which optimal\n",
    "####The extendingSize indicates the size of padding on both sides of the position\n",
    "####of the peaks median to create the consensus region. The minimum size of the\n",
    "####consensus region is equal to twice the value of the extendingSize parameter.\n",
    "\n",
    "##an importan parameter is minNbrExp, which indicate the minimum number of\n",
    "####experiments in which at least one peak must be present for a potential consensus\n",
    "####region (in this case, there are 4 replicates, so we can consider consensus\n",
    "####if a peak shows up in 3 of the 4 replicates - thus minNbrExp=3)"
   ]
  },
  {
   "cell_type": "code",
   "execution_count": 16,
   "id": "hired-parent",
   "metadata": {},
   "outputs": [],
   "source": [
    "## consensus peaks - extendingSize = 1\n",
    "chondrocyte_consensus_extend1 <- findConsensusPeakRegions(\n",
    "  narrowPeaks = c(chondrocyte1_L001_narrowPeak[[\"narrowPeak\"]], \n",
    "                  chondrocyte1_L002_narrowPeak[[\"narrowPeak\"]], \n",
    "                  chondrocyte2_L001_narrowPeak[[\"narrowPeak\"]], \n",
    "                  chondrocyte2_L002_narrowPeak[[\"narrowPeak\"]]),\n",
    "  peaks = c(chondrocyte1_L001_narrowPeak[[\"peak\"]],\n",
    "            chondrocyte1_L002_narrowPeak[[\"peak\"]],\n",
    "            chondrocyte2_L001_narrowPeak[[\"peak\"]],\n",
    "            chondrocyte2_L002_narrowPeak[[\"peak\"]]), chrInfo = mm10info, extendingSize = 1, \n",
    "  expandToFitPeakRegion = FALSE, shrinkToFitPeakRegion = FALSE, minNbrExp = 3, nbrThreads = 1)"
   ]
  },
  {
   "cell_type": "code",
   "execution_count": 17,
   "id": "decent-truth",
   "metadata": {},
   "outputs": [],
   "source": [
    "## consensus peaks - extendingSize = 10\n",
    "chondrocyte_consensus_extend10 <- findConsensusPeakRegions(\n",
    "  narrowPeaks = c(chondrocyte1_L001_narrowPeak[[\"narrowPeak\"]], \n",
    "                  chondrocyte1_L002_narrowPeak[[\"narrowPeak\"]], \n",
    "                  chondrocyte2_L001_narrowPeak[[\"narrowPeak\"]], \n",
    "                  chondrocyte2_L002_narrowPeak[[\"narrowPeak\"]]),\n",
    "  peaks = c(chondrocyte1_L001_narrowPeak[[\"peak\"]],\n",
    "            chondrocyte1_L002_narrowPeak[[\"peak\"]],\n",
    "            chondrocyte2_L001_narrowPeak[[\"peak\"]],\n",
    "            chondrocyte2_L002_narrowPeak[[\"peak\"]]), chrInfo = mm10info, extendingSize = 10, \n",
    "  expandToFitPeakRegion = FALSE, shrinkToFitPeakRegion = FALSE, minNbrExp = 3, nbrThreads = 1)"
   ]
  },
  {
   "cell_type": "code",
   "execution_count": 18,
   "id": "supposed-curtis",
   "metadata": {},
   "outputs": [],
   "source": [
    "## consensus peaks - extendingSize = 50\n",
    "chondrocyte_consensus_extend50 <- findConsensusPeakRegions(\n",
    "  narrowPeaks = c(chondrocyte1_L001_narrowPeak[[\"narrowPeak\"]], \n",
    "                  chondrocyte1_L002_narrowPeak[[\"narrowPeak\"]], \n",
    "                  chondrocyte2_L001_narrowPeak[[\"narrowPeak\"]], \n",
    "                  chondrocyte2_L002_narrowPeak[[\"narrowPeak\"]]),\n",
    "  peaks = c(chondrocyte1_L001_narrowPeak[[\"peak\"]],\n",
    "            chondrocyte1_L002_narrowPeak[[\"peak\"]],\n",
    "            chondrocyte2_L001_narrowPeak[[\"peak\"]],\n",
    "            chondrocyte2_L002_narrowPeak[[\"peak\"]]), chrInfo = mm10info, extendingSize = 50, \n",
    "  expandToFitPeakRegion = FALSE, shrinkToFitPeakRegion = FALSE, minNbrExp = 3, nbrThreads = 1)"
   ]
  },
  {
   "cell_type": "code",
   "execution_count": 19,
   "id": "previous-participant",
   "metadata": {},
   "outputs": [],
   "source": [
    "## consensus peaks - extendingSize = 100\n",
    "chondrocyte_consensus_extend100 <- findConsensusPeakRegions(\n",
    "  narrowPeaks = c(chondrocyte1_L001_narrowPeak[[\"narrowPeak\"]], \n",
    "                  chondrocyte1_L002_narrowPeak[[\"narrowPeak\"]], \n",
    "                  chondrocyte2_L001_narrowPeak[[\"narrowPeak\"]], \n",
    "                  chondrocyte2_L002_narrowPeak[[\"narrowPeak\"]]),\n",
    "  peaks = c(chondrocyte1_L001_narrowPeak[[\"peak\"]],\n",
    "            chondrocyte1_L002_narrowPeak[[\"peak\"]],\n",
    "            chondrocyte2_L001_narrowPeak[[\"peak\"]],\n",
    "            chondrocyte2_L002_narrowPeak[[\"peak\"]]), chrInfo = mm10info, extendingSize = 100, \n",
    "  expandToFitPeakRegion = FALSE, shrinkToFitPeakRegion = FALSE, minNbrExp = 3, nbrThreads = 1)"
   ]
  },
  {
   "cell_type": "code",
   "execution_count": 20,
   "id": "healthy-waterproof",
   "metadata": {},
   "outputs": [],
   "source": [
    "## consensus peaks - extendingSize = 300\n",
    "chondrocyte_consensus_extend300 <- findConsensusPeakRegions(\n",
    "  narrowPeaks = c(chondrocyte1_L001_narrowPeak[[\"narrowPeak\"]], \n",
    "                  chondrocyte1_L002_narrowPeak[[\"narrowPeak\"]], \n",
    "                  chondrocyte2_L001_narrowPeak[[\"narrowPeak\"]], \n",
    "                  chondrocyte2_L002_narrowPeak[[\"narrowPeak\"]]),\n",
    "  peaks = c(chondrocyte1_L001_narrowPeak[[\"peak\"]],\n",
    "            chondrocyte1_L002_narrowPeak[[\"peak\"]],\n",
    "            chondrocyte2_L001_narrowPeak[[\"peak\"]],\n",
    "            chondrocyte2_L002_narrowPeak[[\"peak\"]]), chrInfo = mm10info, extendingSize = 300, \n",
    "            expandToFitPeakRegion = FALSE, shrinkToFitPeakRegion = FALSE, minNbrExp = 3, nbrThreads = 1)"
   ]
  },
  {
   "cell_type": "code",
   "execution_count": 21,
   "id": "nasty-introduction",
   "metadata": {},
   "outputs": [],
   "source": [
    "## consensus peaks - extendingSize = 500\n",
    "chondrocyte_consensus_extend500 <- findConsensusPeakRegions(\n",
    "  narrowPeaks = c(chondrocyte1_L001_narrowPeak[[\"narrowPeak\"]], \n",
    "                  chondrocyte1_L002_narrowPeak[[\"narrowPeak\"]], \n",
    "                  chondrocyte2_L001_narrowPeak[[\"narrowPeak\"]], \n",
    "                  chondrocyte2_L002_narrowPeak[[\"narrowPeak\"]]),\n",
    "  peaks = c(chondrocyte1_L001_narrowPeak[[\"peak\"]],\n",
    "            chondrocyte1_L002_narrowPeak[[\"peak\"]],\n",
    "            chondrocyte2_L001_narrowPeak[[\"peak\"]],\n",
    "            chondrocyte2_L002_narrowPeak[[\"peak\"]]), chrInfo = mm10info, extendingSize = 500, \n",
    "  expandToFitPeakRegion = FALSE, shrinkToFitPeakRegion = FALSE, minNbrExp = 3, nbrThreads = 1)"
   ]
  },
  {
   "cell_type": "code",
   "execution_count": 22,
   "id": "cleared-primary",
   "metadata": {},
   "outputs": [],
   "source": [
    "## consensus peaks - extendingSize = 575\n",
    "chondrocyte_consensus_extend575 <- findConsensusPeakRegions(\n",
    "  narrowPeaks = c(chondrocyte1_L001_narrowPeak[[\"narrowPeak\"]], \n",
    "                  chondrocyte1_L002_narrowPeak[[\"narrowPeak\"]], \n",
    "                  chondrocyte2_L001_narrowPeak[[\"narrowPeak\"]], \n",
    "                  chondrocyte2_L002_narrowPeak[[\"narrowPeak\"]]),\n",
    "  peaks = c(chondrocyte1_L001_narrowPeak[[\"peak\"]],\n",
    "            chondrocyte1_L002_narrowPeak[[\"peak\"]],\n",
    "            chondrocyte2_L001_narrowPeak[[\"peak\"]],\n",
    "            chondrocyte2_L002_narrowPeak[[\"peak\"]]), chrInfo = mm10info, extendingSize = 575, \n",
    "  expandToFitPeakRegion = FALSE, shrinkToFitPeakRegion = FALSE, minNbrExp = 3, nbrThreads = 1)"
   ]
  },
  {
   "cell_type": "code",
   "execution_count": 23,
   "id": "short-cornell",
   "metadata": {},
   "outputs": [],
   "source": [
    "## consensus peaks - extendingSize = 600\n",
    "chondrocyte_consensus_extend600 <- findConsensusPeakRegions(\n",
    "  narrowPeaks = c(chondrocyte1_L001_narrowPeak[[\"narrowPeak\"]], \n",
    "                  chondrocyte1_L002_narrowPeak[[\"narrowPeak\"]], \n",
    "                  chondrocyte2_L001_narrowPeak[[\"narrowPeak\"]], \n",
    "                  chondrocyte2_L002_narrowPeak[[\"narrowPeak\"]]),\n",
    "  peaks = c(chondrocyte1_L001_narrowPeak[[\"peak\"]],\n",
    "            chondrocyte1_L002_narrowPeak[[\"peak\"]],\n",
    "            chondrocyte2_L001_narrowPeak[[\"peak\"]],\n",
    "            chondrocyte2_L002_narrowPeak[[\"peak\"]]), chrInfo = mm10info, extendingSize = 600, \n",
    "  expandToFitPeakRegion = FALSE, shrinkToFitPeakRegion = FALSE, minNbrExp = 3, nbrThreads = 1)"
   ]
  },
  {
   "cell_type": "code",
   "execution_count": 24,
   "id": "unsigned-paste",
   "metadata": {},
   "outputs": [],
   "source": [
    "## consensus peaks - extendingSize = 601\n",
    "chondrocyte_consensus_extend601 <- findConsensusPeakRegions(\n",
    "  narrowPeaks = c(chondrocyte1_L001_narrowPeak[[\"narrowPeak\"]], \n",
    "                  chondrocyte1_L002_narrowPeak[[\"narrowPeak\"]], \n",
    "                  chondrocyte2_L001_narrowPeak[[\"narrowPeak\"]], \n",
    "                  chondrocyte2_L002_narrowPeak[[\"narrowPeak\"]]),\n",
    "  peaks = c(chondrocyte1_L001_narrowPeak[[\"peak\"]],\n",
    "            chondrocyte1_L002_narrowPeak[[\"peak\"]],\n",
    "            chondrocyte2_L001_narrowPeak[[\"peak\"]],\n",
    "            chondrocyte2_L002_narrowPeak[[\"peak\"]]), chrInfo = mm10info, extendingSize = 601, \n",
    "  expandToFitPeakRegion = FALSE, shrinkToFitPeakRegion = FALSE, minNbrExp = 3, nbrThreads = 1)"
   ]
  },
  {
   "cell_type": "code",
   "execution_count": 25,
   "id": "narrow-quest",
   "metadata": {},
   "outputs": [],
   "source": [
    "## consensus peaks - extendingSize = 750\n",
    "chondrocyte_consensus_extend750 <- findConsensusPeakRegions(\n",
    "  narrowPeaks = c(chondrocyte1_L001_narrowPeak[[\"narrowPeak\"]], \n",
    "                  chondrocyte1_L002_narrowPeak[[\"narrowPeak\"]], \n",
    "                  chondrocyte2_L001_narrowPeak[[\"narrowPeak\"]], \n",
    "                  chondrocyte2_L002_narrowPeak[[\"narrowPeak\"]]),\n",
    "  peaks = c(chondrocyte1_L001_narrowPeak[[\"peak\"]],\n",
    "            chondrocyte1_L002_narrowPeak[[\"peak\"]],\n",
    "            chondrocyte2_L001_narrowPeak[[\"peak\"]],\n",
    "            chondrocyte2_L002_narrowPeak[[\"peak\"]]), chrInfo = mm10info, extendingSize = 750, \n",
    "  expandToFitPeakRegion = FALSE, shrinkToFitPeakRegion = FALSE, minNbrExp = 3, nbrThreads = 1)"
   ]
  },
  {
   "cell_type": "code",
   "execution_count": 26,
   "id": "hidden-panic",
   "metadata": {},
   "outputs": [],
   "source": [
    "## consensus peaks - extendingSize = 1000\n",
    "chondrocyte_consensus_extend1000 <- findConsensusPeakRegions(\n",
    "  narrowPeaks = c(chondrocyte1_L001_narrowPeak[[\"narrowPeak\"]], \n",
    "                  chondrocyte1_L002_narrowPeak[[\"narrowPeak\"]], \n",
    "                  chondrocyte2_L001_narrowPeak[[\"narrowPeak\"]], \n",
    "                  chondrocyte2_L002_narrowPeak[[\"narrowPeak\"]]),\n",
    "  peaks = c(chondrocyte1_L001_narrowPeak[[\"peak\"]],\n",
    "            chondrocyte1_L002_narrowPeak[[\"peak\"]],\n",
    "            chondrocyte2_L001_narrowPeak[[\"peak\"]],\n",
    "            chondrocyte2_L002_narrowPeak[[\"peak\"]]), chrInfo = mm10info, extendingSize = 1000, \n",
    "  expandToFitPeakRegion = FALSE, shrinkToFitPeakRegion = FALSE, minNbrExp = 3, nbrThreads = 1)"
   ]
  },
  {
   "cell_type": "code",
   "execution_count": 27,
   "id": "gross-gardening",
   "metadata": {},
   "outputs": [
    {
     "data": {
      "text/html": [
       "<table class=\"dataframe\">\n",
       "<caption>A data.frame: 10 × 5</caption>\n",
       "<thead>\n",
       "\t<tr><th></th><th scope=col>seqnames</th><th scope=col>start</th><th scope=col>end</th><th scope=col>width</th><th scope=col>strand</th></tr>\n",
       "\t<tr><th></th><th scope=col>&lt;fct&gt;</th><th scope=col>&lt;int&gt;</th><th scope=col>&lt;int&gt;</th><th scope=col>&lt;int&gt;</th><th scope=col>&lt;fct&gt;</th></tr>\n",
       "</thead>\n",
       "<tbody>\n",
       "\t<tr><th scope=row>1</th><td>chr1</td><td> 5083210</td><td> 5083410</td><td>201</td><td>*</td></tr>\n",
       "\t<tr><th scope=row>2</th><td>chr1</td><td> 7089262</td><td> 7089462</td><td>201</td><td>*</td></tr>\n",
       "\t<tr><th scope=row>3</th><td>chr1</td><td> 9545710</td><td> 9545910</td><td>201</td><td>*</td></tr>\n",
       "\t<tr><th scope=row>4</th><td>chr1</td><td> 9943812</td><td> 9944012</td><td>201</td><td>*</td></tr>\n",
       "\t<tr><th scope=row>5</th><td>chr1</td><td>10037908</td><td>10038108</td><td>201</td><td>*</td></tr>\n",
       "\t<tr><th scope=row>6</th><td>chr1</td><td>13589096</td><td>13589296</td><td>201</td><td>*</td></tr>\n",
       "\t<tr><th scope=row>7</th><td>chr1</td><td>13589531</td><td>13589731</td><td>201</td><td>*</td></tr>\n",
       "\t<tr><th scope=row>8</th><td>chr1</td><td>15805762</td><td>15805962</td><td>201</td><td>*</td></tr>\n",
       "\t<tr><th scope=row>9</th><td>chr1</td><td>16687621</td><td>16687821</td><td>201</td><td>*</td></tr>\n",
       "\t<tr><th scope=row>10</th><td>chr1</td><td>17182348</td><td>17182548</td><td>201</td><td>*</td></tr>\n",
       "</tbody>\n",
       "</table>\n"
      ],
      "text/latex": [
       "A data.frame: 10 × 5\n",
       "\\begin{tabular}{r|lllll}\n",
       "  & seqnames & start & end & width & strand\\\\\n",
       "  & <fct> & <int> & <int> & <int> & <fct>\\\\\n",
       "\\hline\n",
       "\t1 & chr1 &  5083210 &  5083410 & 201 & *\\\\\n",
       "\t2 & chr1 &  7089262 &  7089462 & 201 & *\\\\\n",
       "\t3 & chr1 &  9545710 &  9545910 & 201 & *\\\\\n",
       "\t4 & chr1 &  9943812 &  9944012 & 201 & *\\\\\n",
       "\t5 & chr1 & 10037908 & 10038108 & 201 & *\\\\\n",
       "\t6 & chr1 & 13589096 & 13589296 & 201 & *\\\\\n",
       "\t7 & chr1 & 13589531 & 13589731 & 201 & *\\\\\n",
       "\t8 & chr1 & 15805762 & 15805962 & 201 & *\\\\\n",
       "\t9 & chr1 & 16687621 & 16687821 & 201 & *\\\\\n",
       "\t10 & chr1 & 17182348 & 17182548 & 201 & *\\\\\n",
       "\\end{tabular}\n"
      ],
      "text/markdown": [
       "\n",
       "A data.frame: 10 × 5\n",
       "\n",
       "| <!--/--> | seqnames &lt;fct&gt; | start &lt;int&gt; | end &lt;int&gt; | width &lt;int&gt; | strand &lt;fct&gt; |\n",
       "|---|---|---|---|---|---|\n",
       "| 1 | chr1 |  5083210 |  5083410 | 201 | * |\n",
       "| 2 | chr1 |  7089262 |  7089462 | 201 | * |\n",
       "| 3 | chr1 |  9545710 |  9545910 | 201 | * |\n",
       "| 4 | chr1 |  9943812 |  9944012 | 201 | * |\n",
       "| 5 | chr1 | 10037908 | 10038108 | 201 | * |\n",
       "| 6 | chr1 | 13589096 | 13589296 | 201 | * |\n",
       "| 7 | chr1 | 13589531 | 13589731 | 201 | * |\n",
       "| 8 | chr1 | 15805762 | 15805962 | 201 | * |\n",
       "| 9 | chr1 | 16687621 | 16687821 | 201 | * |\n",
       "| 10 | chr1 | 17182348 | 17182548 | 201 | * |\n",
       "\n"
      ],
      "text/plain": [
       "   seqnames start    end      width strand\n",
       "1  chr1      5083210  5083410 201   *     \n",
       "2  chr1      7089262  7089462 201   *     \n",
       "3  chr1      9545710  9545910 201   *     \n",
       "4  chr1      9943812  9944012 201   *     \n",
       "5  chr1     10037908 10038108 201   *     \n",
       "6  chr1     13589096 13589296 201   *     \n",
       "7  chr1     13589531 13589731 201   *     \n",
       "8  chr1     15805762 15805962 201   *     \n",
       "9  chr1     16687621 16687821 201   *     \n",
       "10 chr1     17182348 17182548 201   *     "
      ]
     },
     "metadata": {},
     "output_type": "display_data"
    },
    {
     "data": {
      "text/html": [
       "3727"
      ],
      "text/latex": [
       "3727"
      ],
      "text/markdown": [
       "3727"
      ],
      "text/plain": [
       "[1] 3727"
      ]
     },
     "metadata": {},
     "output_type": "display_data"
    }
   ],
   "source": [
    "## taking a look at the output for chondrocyte_consensus_extend100,\n",
    "#### for easy viewing -> convert to data frame\n",
    "chondrocyte_consensus_extend100_df <- data.frame(chondrocyte_consensus_extend100[[\"consensusRanges\"]])\n",
    "head(chondrocyte_consensus_extend100_df, n=10)\n",
    "nrow(chondrocyte_consensus_extend100_df) ## nrow will give us the number of consensus ranges"
   ]
  },
  {
   "cell_type": "code",
   "execution_count": 28,
   "id": "sudden-arrangement",
   "metadata": {},
   "outputs": [
    {
     "data": {
      "text/html": [
       "<table class=\"dataframe\">\n",
       "<caption>A data.frame: 10 × 5</caption>\n",
       "<thead>\n",
       "\t<tr><th></th><th scope=col>seqnames</th><th scope=col>start</th><th scope=col>end</th><th scope=col>width</th><th scope=col>strand</th></tr>\n",
       "\t<tr><th></th><th scope=col>&lt;fct&gt;</th><th scope=col>&lt;int&gt;</th><th scope=col>&lt;int&gt;</th><th scope=col>&lt;int&gt;</th><th scope=col>&lt;fct&gt;</th></tr>\n",
       "</thead>\n",
       "<tbody>\n",
       "\t<tr><th scope=row>1</th><td>chr1</td><td>4857469</td><td>4858619</td><td>1151</td><td>*</td></tr>\n",
       "\t<tr><th scope=row>2</th><td>chr1</td><td>4858291</td><td>4859441</td><td>1151</td><td>*</td></tr>\n",
       "\t<tr><th scope=row>3</th><td>chr1</td><td>5082735</td><td>5083885</td><td>1151</td><td>*</td></tr>\n",
       "\t<tr><th scope=row>4</th><td>chr1</td><td>6214403</td><td>6215553</td><td>1151</td><td>*</td></tr>\n",
       "\t<tr><th scope=row>5</th><td>chr1</td><td>7088325</td><td>7089475</td><td>1151</td><td>*</td></tr>\n",
       "\t<tr><th scope=row>6</th><td>chr1</td><td>7088830</td><td>7089980</td><td>1151</td><td>*</td></tr>\n",
       "\t<tr><th scope=row>7</th><td>chr1</td><td>9545235</td><td>9546385</td><td>1151</td><td>*</td></tr>\n",
       "\t<tr><th scope=row>8</th><td>chr1</td><td>9563599</td><td>9564749</td><td>1151</td><td>*</td></tr>\n",
       "\t<tr><th scope=row>9</th><td>chr1</td><td>9747390</td><td>9748540</td><td>1151</td><td>*</td></tr>\n",
       "\t<tr><th scope=row>10</th><td>chr1</td><td>9943337</td><td>9944487</td><td>1151</td><td>*</td></tr>\n",
       "</tbody>\n",
       "</table>\n"
      ],
      "text/latex": [
       "A data.frame: 10 × 5\n",
       "\\begin{tabular}{r|lllll}\n",
       "  & seqnames & start & end & width & strand\\\\\n",
       "  & <fct> & <int> & <int> & <int> & <fct>\\\\\n",
       "\\hline\n",
       "\t1 & chr1 & 4857469 & 4858619 & 1151 & *\\\\\n",
       "\t2 & chr1 & 4858291 & 4859441 & 1151 & *\\\\\n",
       "\t3 & chr1 & 5082735 & 5083885 & 1151 & *\\\\\n",
       "\t4 & chr1 & 6214403 & 6215553 & 1151 & *\\\\\n",
       "\t5 & chr1 & 7088325 & 7089475 & 1151 & *\\\\\n",
       "\t6 & chr1 & 7088830 & 7089980 & 1151 & *\\\\\n",
       "\t7 & chr1 & 9545235 & 9546385 & 1151 & *\\\\\n",
       "\t8 & chr1 & 9563599 & 9564749 & 1151 & *\\\\\n",
       "\t9 & chr1 & 9747390 & 9748540 & 1151 & *\\\\\n",
       "\t10 & chr1 & 9943337 & 9944487 & 1151 & *\\\\\n",
       "\\end{tabular}\n"
      ],
      "text/markdown": [
       "\n",
       "A data.frame: 10 × 5\n",
       "\n",
       "| <!--/--> | seqnames &lt;fct&gt; | start &lt;int&gt; | end &lt;int&gt; | width &lt;int&gt; | strand &lt;fct&gt; |\n",
       "|---|---|---|---|---|---|\n",
       "| 1 | chr1 | 4857469 | 4858619 | 1151 | * |\n",
       "| 2 | chr1 | 4858291 | 4859441 | 1151 | * |\n",
       "| 3 | chr1 | 5082735 | 5083885 | 1151 | * |\n",
       "| 4 | chr1 | 6214403 | 6215553 | 1151 | * |\n",
       "| 5 | chr1 | 7088325 | 7089475 | 1151 | * |\n",
       "| 6 | chr1 | 7088830 | 7089980 | 1151 | * |\n",
       "| 7 | chr1 | 9545235 | 9546385 | 1151 | * |\n",
       "| 8 | chr1 | 9563599 | 9564749 | 1151 | * |\n",
       "| 9 | chr1 | 9747390 | 9748540 | 1151 | * |\n",
       "| 10 | chr1 | 9943337 | 9944487 | 1151 | * |\n",
       "\n"
      ],
      "text/plain": [
       "   seqnames start   end     width strand\n",
       "1  chr1     4857469 4858619 1151  *     \n",
       "2  chr1     4858291 4859441 1151  *     \n",
       "3  chr1     5082735 5083885 1151  *     \n",
       "4  chr1     6214403 6215553 1151  *     \n",
       "5  chr1     7088325 7089475 1151  *     \n",
       "6  chr1     7088830 7089980 1151  *     \n",
       "7  chr1     9545235 9546385 1151  *     \n",
       "8  chr1     9563599 9564749 1151  *     \n",
       "9  chr1     9747390 9748540 1151  *     \n",
       "10 chr1     9943337 9944487 1151  *     "
      ]
     },
     "metadata": {},
     "output_type": "display_data"
    },
    {
     "data": {
      "text/html": [
       "7209"
      ],
      "text/latex": [
       "7209"
      ],
      "text/markdown": [
       "7209"
      ],
      "text/plain": [
       "[1] 7209"
      ]
     },
     "metadata": {},
     "output_type": "display_data"
    }
   ],
   "source": [
    "## taking a look at the output for chondrocyte_consensus_extend575,\n",
    "#### for easy viewing -> convert to data frame\n",
    "chondrocyte_consensus_extend575_df <- data.frame(chondrocyte_consensus_extend575[[\"consensusRanges\"]])\n",
    "head(chondrocyte_consensus_extend575_df, n=10)\n",
    "nrow(chondrocyte_consensus_extend575_df) ## nrow will give us the number of consensus ranges"
   ]
  },
  {
   "cell_type": "code",
   "execution_count": 29,
   "id": "rental-bikini",
   "metadata": {},
   "outputs": [],
   "source": [
    "## creates a vector extend_size containing all the extendingSize tested\n",
    "extend_size=c(1,10,50,100,300,500,575,600,601,750,1000)"
   ]
  },
  {
   "cell_type": "code",
   "execution_count": 30,
   "id": "threatened-ballot",
   "metadata": {},
   "outputs": [],
   "source": [
    "a <- length(chondrocyte_consensus_extend1[[\"consensusRanges\"]])\n",
    "b <- length(chondrocyte_consensus_extend10[[\"consensusRanges\"]])\n",
    "c <- length(chondrocyte_consensus_extend50[[\"consensusRanges\"]])\n",
    "d <- length(chondrocyte_consensus_extend100[[\"consensusRanges\"]])\n",
    "e <- length(chondrocyte_consensus_extend300[[\"consensusRanges\"]])\n",
    "f <- length(chondrocyte_consensus_extend500[[\"consensusRanges\"]])\n",
    "g <- length(chondrocyte_consensus_extend575[[\"consensusRanges\"]])\n",
    "h <- length(chondrocyte_consensus_extend600[[\"consensusRanges\"]])\n",
    "i <- length(chondrocyte_consensus_extend601[[\"consensusRanges\"]])\n",
    "j <- length(chondrocyte_consensus_extend750[[\"consensusRanges\"]])\n",
    "k <- length(chondrocyte_consensus_extend1000[[\"consensusRanges\"]])"
   ]
  },
  {
   "cell_type": "code",
   "execution_count": 31,
   "id": "proof-hearing",
   "metadata": {},
   "outputs": [],
   "source": [
    "number_of_chondrocyte_consensus_peaks <- c(a,b,c,d,e,f,g,h,i,j,k)"
   ]
  },
  {
   "cell_type": "code",
   "execution_count": 32,
   "id": "functioning-nitrogen",
   "metadata": {},
   "outputs": [],
   "source": [
    "number_of_chondrocyte_consensus_peaks_df <- data.frame(number_of_chondrocyte_consensus_peaks)"
   ]
  },
  {
   "cell_type": "code",
   "execution_count": 33,
   "id": "level-evanescence",
   "metadata": {},
   "outputs": [],
   "source": [
    "colnames(number_of_chondrocyte_consensus_peaks_df) <- \"number_of_chondrocyte_consensus_peaks\""
   ]
  },
  {
   "cell_type": "code",
   "execution_count": 34,
   "id": "scheduled-entrepreneur",
   "metadata": {},
   "outputs": [],
   "source": [
    "number_of_chondrocyte_consensus_peaks_df$extend_size <- extend_size"
   ]
  },
  {
   "cell_type": "code",
   "execution_count": 35,
   "id": "helpful-jonathan",
   "metadata": {},
   "outputs": [
    {
     "data": {
      "image/png": "[encoded data removed]",
      "text/plain": [
       "plot without title"
      ]
     },
     "metadata": {
      "image/png": {
       "height": 420,
       "width": 420
      }
     },
     "output_type": "display_data"
    }
   ],
   "source": [
    "## the plot shows that at certain extendingSize values the number of consensus peaks\n",
    "####obtained start to plateau. here we choose the consensus peaks derived from an\n",
    "####extending size of 575 because there seems to be a drop in the number of\n",
    "####consensus peaks when extendingSize is changed to 600\n",
    "plot(extend_size,number_of_chondrocyte_consensus_peaks)\n",
    "axis(side=1, at=seq(0,1000,by=100))"
   ]
  },
  {
   "cell_type": "code",
   "execution_count": 36,
   "id": "level-testament",
   "metadata": {},
   "outputs": [],
   "source": [
    "## export the consensus calls as *.bed to view in IGV\n",
    "export(chondrocyte_consensus_extend575[[\"consensusRanges\"]], con='D:/mouse_chondrocyte_chip_seq_macs2/chondrocyte_consensus_peaks_extend575.bed')"
   ]
  }
 ],
 "metadata": {
  "kernelspec": {
   "display_name": "R4.0.3",
   "language": "R",
   "name": "r4.0.3"
  },
  "language_info": {
   "codemirror_mode": "r",
   "file_extension": ".r",
   "mimetype": "text/x-r-source",
   "name": "R",
   "pygments_lexer": "r",
   "version": "4.0.3"
  }
 },
 "nbformat": 4,
 "nbformat_minor": 5
}
