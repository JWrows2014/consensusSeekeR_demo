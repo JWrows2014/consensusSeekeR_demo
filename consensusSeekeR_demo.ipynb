{
 "cells": [
  {
   "cell_type": "markdown",
   "id": "neutral-beauty",
   "metadata": {},
   "source": [
    "This script demos the calling of consensus ChIP seq peaks obtained from mouse chondrocyte tissue using consensusSeekeR\n",
    "(https://www.bioconductor.org/packages/release/bioc/html/consensusSeekeR.html)"
   ]
  },
  {
   "cell_type": "code",
   "execution_count": null,
   "id": "false-courtesy",
   "metadata": {},
   "outputs": [],
   "source": [
    "##loading required packages\n",
    "library(readr)\n",
    "library(GenomicRanges)\n",
    "library(rtracklayer)\n",
    "library(dplyr)\n",
    "library(consensusSeekeR)"
   ]
  },
  {
   "cell_type": "code",
   "execution_count": null,
   "id": "recovered-underground",
   "metadata": {},
   "outputs": [],
   "source": [
    "##setting working directory\n",
    "setwd('D:/mouse_chondrocyte_chip_seq_macs2')"
   ]
  },
  {
   "cell_type": "code",
   "execution_count": null,
   "id": "altered-singapore",
   "metadata": {},
   "outputs": [],
   "source": [
    "dir <- file.path(\"D:\", \"mouse_chondrocyte_chip_seq_macs2\")"
   ]
  },
  {
   "cell_type": "code",
   "execution_count": null,
   "id": "needed-cigarette",
   "metadata": {},
   "outputs": [],
   "source": [
    "##importing a list csv file containing a list of narrowPeak files generated \n",
    "####from ChIP seq peak calling with MACS2\n",
    "chondrocyte_narrowPeak_files <- read.csv(\"chondrocyte_narrowPeak_files.csv\", header = FALSE)\n",
    "##assign column name(s) to chondrocyte_narrowPeak_files\n",
    "colnames(chondrocyte_narrowPeak_files) <- \"chondrocyte_narrowPeak_filenames\""
   ]
  },
  {
   "cell_type": "code",
   "execution_count": null,
   "id": "least-democrat",
   "metadata": {},
   "outputs": [],
   "source": [
    "chondrocyte_narrowPeak_files"
   ]
  },
  {
   "cell_type": "code",
   "execution_count": null,
   "id": "short-silver",
   "metadata": {},
   "outputs": [],
   "source": [
    "##importing the narrowPeak files obtained from peak calling with MACS2\n",
    "chondrocyte1_L001_narrowPeak <- readNarrowPeakFile(paste0(dir, \"/\", chondrocyte_narrowPeak_files[1,1]), extractRegions = TRUE, extractPeaks = TRUE)\n",
    "chondrocyte1_L002_narrowPeak <- readNarrowPeakFile(paste0(dir, \"/\", chondrocyte_narrowPeak_files[2,1]), extractRegions = TRUE, extractPeaks = TRUE)\n",
    "chondrocyte2_L001_narrowPeak <- readNarrowPeakFile(paste0(dir, \"/\", chondrocyte_narrowPeak_files[3,1]), extractRegions = TRUE, extractPeaks = TRUE)\n",
    "chondrocyte2_L002_narrowPeak <- readNarrowPeakFile(paste0(dir, \"/\", chondrocyte_narrowPeak_files[4,1]), extractRegions = TRUE, extractPeaks = TRUE)"
   ]
  },
  {
   "cell_type": "code",
   "execution_count": null,
   "id": "talented-processing",
   "metadata": {},
   "outputs": [],
   "source": [
    "##taking a look at what a narrowPeak file looks like\n",
    "##the first 6 columns of a narrowPeak file are essentially BED\n",
    "##the last 4 columns of a narrowPeak file provides signalValue (overall enrichment of a region),\n",
    "####statistical significance of the called peak (p and q values) and\n",
    "####peak (the point source called for a peak)\n",
    "chondrocyte1_L001_narrowPeak"
   ]
  },
  {
   "cell_type": "code",
   "execution_count": null,
   "id": "sought-austin",
   "metadata": {},
   "outputs": [],
   "source": [
    "##converting the narrowPeak files into data frames\n",
    "chondrocyte1_L001_narrowPeak_df <- data.frame(chondrocyte1_L001_narrowPeak[[\"narrowPeak\"]])\n",
    "chondrocyte1_L002_narrowPeak_df <- data.frame(chondrocyte1_L002_narrowPeak[[\"narrowPeak\"]])\n",
    "chondrocyte2_L001_narrowPeak_df <- data.frame(chondrocyte2_L001_narrowPeak[[\"narrowPeak\"]])\n",
    "chondrocyte2_L002_narrowPeak_df <- data.frame(chondrocyte2_L002_narrowPeak[[\"narrowPeak\"]])"
   ]
  },
  {
   "cell_type": "code",
   "execution_count": null,
   "id": "social-sensitivity",
   "metadata": {},
   "outputs": [],
   "source": [
    "##it is more easy to see the contents of a narrowPeak file when in data frame format\n",
    "##here we use the head function to view the first 5 rows\n",
    "head(chondrocyte1_L001_narrowPeak_df, n=5)"
   ]
  },
  {
   "cell_type": "code",
   "execution_count": null,
   "id": "threatened-documentation",
   "metadata": {},
   "outputs": [],
   "source": [
    "##extracting peak locations from narrowPeak files and storing into data frames\n",
    "chondrocyte1_L001_peak_df <- data.frame(chondrocyte1_L001_narrowPeak[[\"peak\"]])\n",
    "chondrocyte1_L002_peak_df <- data.frame(chondrocyte1_L002_narrowPeak[[\"peak\"]])\n",
    "chondrocyte2_L001_peak_df <- data.frame(chondrocyte2_L001_narrowPeak[[\"peak\"]])\n",
    "chondrocyte2_L002_peak_df <- data.frame(chondrocyte2_L002_narrowPeak[[\"peak\"]])"
   ]
  },
  {
   "cell_type": "code",
   "execution_count": null,
   "id": "returning-brick",
   "metadata": {},
   "outputs": [],
   "source": [
    "##the difference between chondrocyte1_L001_narrowPeak_df and chondrocyte1_L001_peak_df\n",
    "####is that the peak width in chondrocyte1_L001_peak_df is 1\n",
    "head(chondrocyte1_L001_peak_df, n=5)"
   ]
  },
  {
   "cell_type": "code",
   "execution_count": null,
   "id": "precise-antigua",
   "metadata": {},
   "outputs": [],
   "source": [
    "names(chondrocyte1_L001_narrowPeak[[\"narrowPeak\"]]) <- rep(\"chondrocyte1_L001\", length(chondrocyte1_L001_narrowPeak[[\"narrowPeak\"]]))\n",
    "names(chondrocyte1_L001_narrowPeak[[\"peak\"]]) <- rep(\"chondrocyte1_L001\", length(chondrocyte1_L001_narrowPeak[[\"peak\"]]))\n",
    "names(chondrocyte1_L002_narrowPeak[[\"narrowPeak\"]]) <- rep(\"chondrocyte1_L002\", length(chondrocyte1_L002_narrowPeak[[\"narrowPeak\"]]))\n",
    "names(chondrocyte1_L002_narrowPeak[[\"peak\"]]) <- rep(\"chondrocyte1_L002\", length(chondrocyte1_L002_narrowPeak[[\"peak\"]]))\n",
    "names(chondrocyte2_L001_narrowPeak[[\"narrowPeak\"]]) <- rep(\"chondrocyte2_L001\", length(chondrocyte2_L001_narrowPeak[[\"narrowPeak\"]]))\n",
    "names(chondrocyte2_L001_narrowPeak[[\"peak\"]]) <- rep(\"chondrocyte2_L001\", length(chondrocyte2_L001_narrowPeak[[\"peak\"]]))\n",
    "names(chondrocyte2_L002_narrowPeak[[\"narrowPeak\"]]) <- rep(\"chondrocyte2_L002\", length(chondrocyte2_L002_narrowPeak[[\"narrowPeak\"]]))\n",
    "names(chondrocyte2_L002_narrowPeak[[\"peak\"]]) <- rep(\"chondrocyte2_L002\", length(chondrocyte2_L002_narrowPeak[[\"peak\"]]))"
   ]
  },
  {
   "cell_type": "code",
   "execution_count": null,
   "id": "virgin-mapping",
   "metadata": {},
   "outputs": [],
   "source": [
    "##notice that now the sample names have been included\n",
    "head(chondrocyte1_L001_narrowPeak[[\"narrowPeak\"]], n=5)"
   ]
  },
  {
   "cell_type": "code",
   "execution_count": null,
   "id": "sufficient-mobility",
   "metadata": {},
   "outputs": [],
   "source": [
    "##sets reference genome to mm10, which was used for sequence read alignment\n",
    "mm10info <- Seqinfo(genome=\"mm10\")"
   ]
  },
  {
   "cell_type": "code",
   "execution_count": null,
   "id": "joint-doubt",
   "metadata": {},
   "outputs": [],
   "source": [
    "##the lines below will find consensus peaks in the replicates\n",
    "\n",
    "##different values of extendingSize are tested to find the one which optimal\n",
    "####The extendingSize indicates the size of padding on both sides of the position\n",
    "####of the peaks median to create the consensus region. The minimum size of the\n",
    "####consensus region is equal to twice the value of the extendingSize parameter.\n",
    "\n",
    "##an importan parameter is minNbrExp, which indicate the minimum number of\n",
    "####experiments in which at least one peak must be present for a potential consensus\n",
    "####region (in this case, there are 4 replicates, so we can consider consensus\n",
    "####if a peak shows up in 3 of the 4 replicates - thus minNbrExp=3)"
   ]
  },
  {
   "cell_type": "code",
   "execution_count": null,
   "id": "anonymous-specification",
   "metadata": {},
   "outputs": [],
   "source": [
    "## consensus peaks - extendingSize = 1\n",
    "chondrocyte_consensus_extend1 <- findConsensusPeakRegions(\n",
    "  narrowPeaks = c(chondrocyte1_L001_narrowPeak[[\"narrowPeak\"]], \n",
    "                  chondrocyte1_L002_narrowPeak[[\"narrowPeak\"]], \n",
    "                  chondrocyte2_L001_narrowPeak[[\"narrowPeak\"]], \n",
    "                  chondrocyte2_L002_narrowPeak[[\"narrowPeak\"]]),\n",
    "  peaks = c(chondrocyte1_L001_narrowPeak[[\"peak\"]],\n",
    "            chondrocyte1_L002_narrowPeak[[\"peak\"]],\n",
    "            chondrocyte2_L001_narrowPeak[[\"peak\"]],\n",
    "            chondrocyte2_L002_narrowPeak[[\"peak\"]]), chrInfo = mm10info, extendingSize = 1, \n",
    "  expandToFitPeakRegion = FALSE, shrinkToFitPeakRegion = FALSE, minNbrExp = 3, nbrThreads = 1)"
   ]
  },
  {
   "cell_type": "code",
   "execution_count": null,
   "id": "attractive-attribute",
   "metadata": {},
   "outputs": [],
   "source": [
    "## consensus peaks - extendingSize = 10\n",
    "chondrocyte_consensus_extend10 <- findConsensusPeakRegions(\n",
    "  narrowPeaks = c(chondrocyte1_L001_narrowPeak[[\"narrowPeak\"]], \n",
    "                  chondrocyte1_L002_narrowPeak[[\"narrowPeak\"]], \n",
    "                  chondrocyte2_L001_narrowPeak[[\"narrowPeak\"]], \n",
    "                  chondrocyte2_L002_narrowPeak[[\"narrowPeak\"]]),\n",
    "  peaks = c(chondrocyte1_L001_narrowPeak[[\"peak\"]],\n",
    "            chondrocyte1_L002_narrowPeak[[\"peak\"]],\n",
    "            chondrocyte2_L001_narrowPeak[[\"peak\"]],\n",
    "            chondrocyte2_L002_narrowPeak[[\"peak\"]]), chrInfo = mm10info, extendingSize = 10, \n",
    "  expandToFitPeakRegion = FALSE, shrinkToFitPeakRegion = FALSE, minNbrExp = 3, nbrThreads = 1)"
   ]
  },
  {
   "cell_type": "code",
   "execution_count": null,
   "id": "restricted-integer",
   "metadata": {},
   "outputs": [],
   "source": [
    "## consensus peaks - extendingSize = 50\n",
    "chondrocyte_consensus_extend50 <- findConsensusPeakRegions(\n",
    "  narrowPeaks = c(chondrocyte1_L001_narrowPeak[[\"narrowPeak\"]], \n",
    "                  chondrocyte1_L002_narrowPeak[[\"narrowPeak\"]], \n",
    "                  chondrocyte2_L001_narrowPeak[[\"narrowPeak\"]], \n",
    "                  chondrocyte2_L002_narrowPeak[[\"narrowPeak\"]]),\n",
    "  peaks = c(chondrocyte1_L001_narrowPeak[[\"peak\"]],\n",
    "            chondrocyte1_L002_narrowPeak[[\"peak\"]],\n",
    "            chondrocyte2_L001_narrowPeak[[\"peak\"]],\n",
    "            chondrocyte2_L002_narrowPeak[[\"peak\"]]), chrInfo = mm10info, extendingSize = 50, \n",
    "  expandToFitPeakRegion = FALSE, shrinkToFitPeakRegion = FALSE, minNbrExp = 3, nbrThreads = 1)"
   ]
  },
  {
   "cell_type": "code",
   "execution_count": null,
   "id": "posted-sunset",
   "metadata": {},
   "outputs": [],
   "source": [
    "## consensus peaks - extendingSize = 100\n",
    "chondrocyte_consensus_extend100 <- findConsensusPeakRegions(\n",
    "  narrowPeaks = c(chondrocyte1_L001_narrowPeak[[\"narrowPeak\"]], \n",
    "                  chondrocyte1_L002_narrowPeak[[\"narrowPeak\"]], \n",
    "                  chondrocyte2_L001_narrowPeak[[\"narrowPeak\"]], \n",
    "                  chondrocyte2_L002_narrowPeak[[\"narrowPeak\"]]),\n",
    "  peaks = c(chondrocyte1_L001_narrowPeak[[\"peak\"]],\n",
    "            chondrocyte1_L002_narrowPeak[[\"peak\"]],\n",
    "            chondrocyte2_L001_narrowPeak[[\"peak\"]],\n",
    "            chondrocyte2_L002_narrowPeak[[\"peak\"]]), chrInfo = mm10info, extendingSize = 100, \n",
    "  expandToFitPeakRegion = FALSE, shrinkToFitPeakRegion = FALSE, minNbrExp = 3, nbrThreads = 1)"
   ]
  },
  {
   "cell_type": "code",
   "execution_count": null,
   "id": "anonymous-texas",
   "metadata": {},
   "outputs": [],
   "source": [
    "## consensus peaks - extendingSize = 300\n",
    "chondrocyte_consensus_extend300 <- findConsensusPeakRegions(\n",
    "  narrowPeaks = c(chondrocyte1_L001_narrowPeak[[\"narrowPeak\"]], \n",
    "                  chondrocyte1_L002_narrowPeak[[\"narrowPeak\"]], \n",
    "                  chondrocyte2_L001_narrowPeak[[\"narrowPeak\"]], \n",
    "                  chondrocyte2_L002_narrowPeak[[\"narrowPeak\"]]),\n",
    "  peaks = c(chondrocyte1_L001_narrowPeak[[\"peak\"]],\n",
    "            chondrocyte1_L002_narrowPeak[[\"peak\"]],\n",
    "            chondrocyte2_L001_narrowPeak[[\"peak\"]],\n",
    "            chondrocyte2_L002_narrowPeak[[\"peak\"]]), chrInfo = mm10info, extendingSize = 300, \n",
    "            expandToFitPeakRegion = FALSE, shrinkToFitPeakRegion = FALSE, minNbrExp = 3, nbrThreads = 1)"
   ]
  },
  {
   "cell_type": "code",
   "execution_count": null,
   "id": "growing-peoples",
   "metadata": {},
   "outputs": [],
   "source": [
    "## consensus peaks - extendingSize = 500\n",
    "chondrocyte_consensus_extend500 <- findConsensusPeakRegions(\n",
    "  narrowPeaks = c(chondrocyte1_L001_narrowPeak[[\"narrowPeak\"]], \n",
    "                  chondrocyte1_L002_narrowPeak[[\"narrowPeak\"]], \n",
    "                  chondrocyte2_L001_narrowPeak[[\"narrowPeak\"]], \n",
    "                  chondrocyte2_L002_narrowPeak[[\"narrowPeak\"]]),\n",
    "  peaks = c(chondrocyte1_L001_narrowPeak[[\"peak\"]],\n",
    "            chondrocyte1_L002_narrowPeak[[\"peak\"]],\n",
    "            chondrocyte2_L001_narrowPeak[[\"peak\"]],\n",
    "            chondrocyte2_L002_narrowPeak[[\"peak\"]]), chrInfo = mm10info, extendingSize = 500, \n",
    "  expandToFitPeakRegion = FALSE, shrinkToFitPeakRegion = FALSE, minNbrExp = 3, nbrThreads = 1)"
   ]
  },
  {
   "cell_type": "code",
   "execution_count": null,
   "id": "olympic-montana",
   "metadata": {},
   "outputs": [],
   "source": [
    "## consensus peaks - extendingSize = 575\n",
    "chondrocyte_consensus_extend575 <- findConsensusPeakRegions(\n",
    "  narrowPeaks = c(chondrocyte1_L001_narrowPeak[[\"narrowPeak\"]], \n",
    "                  chondrocyte1_L002_narrowPeak[[\"narrowPeak\"]], \n",
    "                  chondrocyte2_L001_narrowPeak[[\"narrowPeak\"]], \n",
    "                  chondrocyte2_L002_narrowPeak[[\"narrowPeak\"]]),\n",
    "  peaks = c(chondrocyte1_L001_narrowPeak[[\"peak\"]],\n",
    "            chondrocyte1_L002_narrowPeak[[\"peak\"]],\n",
    "            chondrocyte2_L001_narrowPeak[[\"peak\"]],\n",
    "            chondrocyte2_L002_narrowPeak[[\"peak\"]]), chrInfo = mm10info, extendingSize = 575, \n",
    "  expandToFitPeakRegion = FALSE, shrinkToFitPeakRegion = FALSE, minNbrExp = 3, nbrThreads = 1)"
   ]
  },
  {
   "cell_type": "code",
   "execution_count": null,
   "id": "nasty-gender",
   "metadata": {},
   "outputs": [],
   "source": [
    "## consensus peaks - extendingSize = 600\n",
    "chondrocyte_consensus_extend600 <- findConsensusPeakRegions(\n",
    "  narrowPeaks = c(chondrocyte1_L001_narrowPeak[[\"narrowPeak\"]], \n",
    "                  chondrocyte1_L002_narrowPeak[[\"narrowPeak\"]], \n",
    "                  chondrocyte2_L001_narrowPeak[[\"narrowPeak\"]], \n",
    "                  chondrocyte2_L002_narrowPeak[[\"narrowPeak\"]]),\n",
    "  peaks = c(chondrocyte1_L001_narrowPeak[[\"peak\"]],\n",
    "            chondrocyte1_L002_narrowPeak[[\"peak\"]],\n",
    "            chondrocyte2_L001_narrowPeak[[\"peak\"]],\n",
    "            chondrocyte2_L002_narrowPeak[[\"peak\"]]), chrInfo = mm10info, extendingSize = 600, \n",
    "  expandToFitPeakRegion = FALSE, shrinkToFitPeakRegion = FALSE, minNbrExp = 3, nbrThreads = 1)"
   ]
  },
  {
   "cell_type": "code",
   "execution_count": null,
   "id": "protected-completion",
   "metadata": {},
   "outputs": [],
   "source": [
    "## consensus peaks - extendingSize = 601\n",
    "chondrocyte_consensus_extend601 <- findConsensusPeakRegions(\n",
    "  narrowPeaks = c(chondrocyte1_L001_narrowPeak[[\"narrowPeak\"]], \n",
    "                  chondrocyte1_L002_narrowPeak[[\"narrowPeak\"]], \n",
    "                  chondrocyte2_L001_narrowPeak[[\"narrowPeak\"]], \n",
    "                  chondrocyte2_L002_narrowPeak[[\"narrowPeak\"]]),\n",
    "  peaks = c(chondrocyte1_L001_narrowPeak[[\"peak\"]],\n",
    "            chondrocyte1_L002_narrowPeak[[\"peak\"]],\n",
    "            chondrocyte2_L001_narrowPeak[[\"peak\"]],\n",
    "            chondrocyte2_L002_narrowPeak[[\"peak\"]]), chrInfo = mm10info, extendingSize = 601, \n",
    "  expandToFitPeakRegion = FALSE, shrinkToFitPeakRegion = FALSE, minNbrExp = 3, nbrThreads = 1)"
   ]
  },
  {
   "cell_type": "code",
   "execution_count": null,
   "id": "following-norfolk",
   "metadata": {},
   "outputs": [],
   "source": [
    "## consensus peaks - extendingSize = 750\n",
    "chondrocyte_consensus_extend750 <- findConsensusPeakRegions(\n",
    "  narrowPeaks = c(chondrocyte1_L001_narrowPeak[[\"narrowPeak\"]], \n",
    "                  chondrocyte1_L002_narrowPeak[[\"narrowPeak\"]], \n",
    "                  chondrocyte2_L001_narrowPeak[[\"narrowPeak\"]], \n",
    "                  chondrocyte2_L002_narrowPeak[[\"narrowPeak\"]]),\n",
    "  peaks = c(chondrocyte1_L001_narrowPeak[[\"peak\"]],\n",
    "            chondrocyte1_L002_narrowPeak[[\"peak\"]],\n",
    "            chondrocyte2_L001_narrowPeak[[\"peak\"]],\n",
    "            chondrocyte2_L002_narrowPeak[[\"peak\"]]), chrInfo = mm10info, extendingSize = 750, \n",
    "  expandToFitPeakRegion = FALSE, shrinkToFitPeakRegion = FALSE, minNbrExp = 3, nbrThreads = 1)"
   ]
  },
  {
   "cell_type": "code",
   "execution_count": null,
   "id": "beautiful-examination",
   "metadata": {},
   "outputs": [],
   "source": [
    "## consensus peaks - extendingSize = 1000\n",
    "chondrocyte_consensus_extend1000 <- findConsensusPeakRegions(\n",
    "  narrowPeaks = c(chondrocyte1_L001_narrowPeak[[\"narrowPeak\"]], \n",
    "                  chondrocyte1_L002_narrowPeak[[\"narrowPeak\"]], \n",
    "                  chondrocyte2_L001_narrowPeak[[\"narrowPeak\"]], \n",
    "                  chondrocyte2_L002_narrowPeak[[\"narrowPeak\"]]),\n",
    "  peaks = c(chondrocyte1_L001_narrowPeak[[\"peak\"]],\n",
    "            chondrocyte1_L002_narrowPeak[[\"peak\"]],\n",
    "            chondrocyte2_L001_narrowPeak[[\"peak\"]],\n",
    "            chondrocyte2_L002_narrowPeak[[\"peak\"]]), chrInfo = mm10info, extendingSize = 1000, \n",
    "  expandToFitPeakRegion = FALSE, shrinkToFitPeakRegion = FALSE, minNbrExp = 3, nbrThreads = 1)"
   ]
  },
  {
   "cell_type": "code",
   "execution_count": null,
   "id": "greater-government",
   "metadata": {},
   "outputs": [],
   "source": [
    "## creates a vector extend_size containing all the extendingSize tested\n",
    "extend_size=c(1,10,50,100,300,500,575,600,601,750,1000)"
   ]
  },
  {
   "cell_type": "code",
   "execution_count": null,
   "id": "adapted-breed",
   "metadata": {},
   "outputs": [],
   "source": [
    "a <- length(chondrocyte_consensus_extend1[[\"consensusRanges\"]])\n",
    "b <- length(chondrocyte_consensus_extend10[[\"consensusRanges\"]])\n",
    "c <- length(chondrocyte_consensus_extend50[[\"consensusRanges\"]])\n",
    "d <- length(chondrocyte_consensus_extend100[[\"consensusRanges\"]])\n",
    "e <- length(chondrocyte_consensus_extend300[[\"consensusRanges\"]])\n",
    "f <- length(chondrocyte_consensus_extend500[[\"consensusRanges\"]])\n",
    "g <- length(chondrocyte_consensus_extend575[[\"consensusRanges\"]])\n",
    "h <- length(chondrocyte_consensus_extend600[[\"consensusRanges\"]])\n",
    "i <- length(chondrocyte_consensus_extend601[[\"consensusRanges\"]])\n",
    "j <- length(chondrocyte_consensus_extend750[[\"consensusRanges\"]])\n",
    "k <- length(chondrocyte_consensus_extend1000[[\"consensusRanges\"]])"
   ]
  },
  {
   "cell_type": "code",
   "execution_count": null,
   "id": "primary-anthony",
   "metadata": {},
   "outputs": [],
   "source": [
    "number_of_chondrocyte_consensus_peaks <- c(a,b,c,d,e,f,g,h,i,j,k)"
   ]
  },
  {
   "cell_type": "code",
   "execution_count": null,
   "id": "becoming-priority",
   "metadata": {},
   "outputs": [],
   "source": [
    "number_of_chondrocyte_consensus_peaks_df <- data.frame(number_of_chondrocyte_consensus_peaks)"
   ]
  },
  {
   "cell_type": "code",
   "execution_count": null,
   "id": "controversial-mystery",
   "metadata": {},
   "outputs": [],
   "source": [
    "colnames(number_of_chondrocyte_consensus_peaks_df) <- \"number_of_chondrocyte_consensus_peaks\""
   ]
  },
  {
   "cell_type": "code",
   "execution_count": null,
   "id": "powered-particle",
   "metadata": {},
   "outputs": [],
   "source": [
    "number_of_chondrocyte_consensus_peaks_df$extend_size <- extend_size"
   ]
  },
  {
   "cell_type": "code",
   "execution_count": null,
   "id": "innocent-driver",
   "metadata": {},
   "outputs": [],
   "source": [
    "plot(extend_size,number_of_chondrocyte_consensus_peaks)\n",
    "axis(side=1, at=seq(0,1000,by=100))"
   ]
  }
 ],
 "metadata": {
  "kernelspec": {
   "display_name": "R4.0.3",
   "language": "R",
   "name": "r4.0.3"
  },
  "language_info": {
   "codemirror_mode": "r",
   "file_extension": ".r",
   "mimetype": "text/x-r-source",
   "name": "R",
   "pygments_lexer": "r",
   "version": "4.0.3"
  }
 },
 "nbformat": 4,
 "nbformat_minor": 5
}
